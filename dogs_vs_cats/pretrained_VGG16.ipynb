{
 "cells": [
  {
   "cell_type": "code",
   "execution_count": 4,
   "metadata": {},
   "outputs": [],
   "source": [
    "import os\n",
    "import time\n",
    "import matplotlib.pyplot as plt\n",
    "import numpy as np\n",
    "\n",
    "from keras import optimizers\n",
    "from keras.applications import VGG16\n",
    "from keras.models import Sequential\n",
    "from keras.layers import Conv2D, MaxPooling2D, Dense, Flatten, Dropout\n",
    "from keras.preprocessing.image import ImageDataGenerator\n",
    "from tensorflow.keras.callbacks import TensorBoard"
   ]
  },
  {
   "cell_type": "code",
   "execution_count": 5,
   "metadata": {},
   "outputs": [],
   "source": [
    "conv_base = VGG16(input_shape=(150, 150, 3),\n",
    "                  weights='imagenet',\n",
    "                  include_top=False)"
   ]
  },
  {
   "cell_type": "code",
   "execution_count": 7,
   "metadata": {},
   "outputs": [],
   "source": [
    "path = os.getcwd()\n",
    "\n",
    "train_dir = os.path.join(path, 'data/small_data/train/')\n",
    "val_dir = os.path.join(path, 'data/small_data/validation/')\n",
    "test_dir = os.path.join(path, 'data/small_data/test/')\n",
    "\n",
    "datagen = ImageDataGenerator(rescale=1./255)\n",
    "batch_size = 20"
   ]
  },
  {
   "cell_type": "code",
   "execution_count": 8,
   "metadata": {},
   "outputs": [],
   "source": [
    "def extract_features(directory, sample_count):\n",
    "    features = np.zeros(shape=(sample_count, 4, 4, 512))\n",
    "    labels = np.zeros(shape=(sample_count))\n",
    "    generator = datagen.flow_from_directory(directory, \n",
    "                                            target_size=(150, 150),\n",
    "                                            batch_size=batch_size,\n",
    "                                            class_mode='binary')\n",
    "    \n",
    "    i = 0\n",
    "    for inputs_batch, labels_batch in generator:\n",
    "        features_batch = conv_base.predict(inputs_batch)\n",
    "        features[i * batch_size : (i + 1) * batch_size] = features_batch\n",
    "        labels[i * batch_size : (i + 1) * batch_size] = labels_batch\n",
    "        i += 1\n",
    "        if i * batch_size >= sample_count:\n",
    "            break\n",
    "            \n",
    "    return features, labels\n",
    "        "
   ]
  },
  {
   "cell_type": "code",
   "execution_count": 10,
   "metadata": {},
   "outputs": [
    {
     "name": "stdout",
     "output_type": "stream",
     "text": [
      "Found 2000 images belonging to 2 classes.\n",
      "Found 1000 images belonging to 2 classes.\n",
      "Found 1000 images belonging to 2 classes.\n"
     ]
    }
   ],
   "source": [
    "train_features, train_labels = extract_features(train_dir, 2000)\n",
    "val_features, val_labels = extract_features(val_dir, 1000)\n",
    "test_features, test_labels = extract_features(test_dir, 1000)"
   ]
  },
  {
   "cell_type": "code",
   "execution_count": 11,
   "metadata": {},
   "outputs": [],
   "source": [
    "train_features = np.reshape(train_features, (2000, 4 * 4 * 512))\n",
    "val_features = np.reshape(val_features, (1000, 4 * 4 * 512))\n",
    "test_features = np.reshape(test_features, (1000, 4 * 4 * 512))"
   ]
  },
  {
   "cell_type": "code",
   "execution_count": 14,
   "metadata": {},
   "outputs": [
    {
     "name": "stdout",
     "output_type": "stream",
     "text": [
      "Train on 2000 samples, validate on 1000 samples\n",
      "Epoch 1/30\n",
      "2000/2000 [==============================] - 2s 1ms/step - loss: 0.6055 - acc: 0.6625 - val_loss: 0.4618 - val_acc: 0.8260\n",
      "Epoch 2/30\n",
      "2000/2000 [==============================] - 2s 1ms/step - loss: 0.4305 - acc: 0.8075 - val_loss: 0.3825 - val_acc: 0.8460\n",
      "Epoch 3/30\n",
      "2000/2000 [==============================] - 2s 1ms/step - loss: 0.3603 - acc: 0.8490 - val_loss: 0.3462 - val_acc: 0.8500\n",
      "Epoch 4/30\n",
      "2000/2000 [==============================] - 2s 1ms/step - loss: 0.3171 - acc: 0.8695 - val_loss: 0.3290 - val_acc: 0.8510\n",
      "Epoch 5/30\n",
      "2000/2000 [==============================] - 2s 1ms/step - loss: 0.2960 - acc: 0.8860 - val_loss: 0.3052 - val_acc: 0.8660\n",
      "Epoch 6/30\n",
      "2000/2000 [==============================] - 2s 1ms/step - loss: 0.2671 - acc: 0.8940 - val_loss: 0.2930 - val_acc: 0.8680\n",
      "Epoch 7/30\n",
      "2000/2000 [==============================] - 2s 1ms/step - loss: 0.2511 - acc: 0.8985 - val_loss: 0.2864 - val_acc: 0.8750\n",
      "Epoch 8/30\n",
      "2000/2000 [==============================] - 2s 1ms/step - loss: 0.2355 - acc: 0.9075 - val_loss: 0.2833 - val_acc: 0.8780\n",
      "Epoch 9/30\n",
      "2000/2000 [==============================] - 2s 1ms/step - loss: 0.2313 - acc: 0.9085 - val_loss: 0.2753 - val_acc: 0.8800\n",
      "Epoch 10/30\n",
      "2000/2000 [==============================] - 2s 1ms/step - loss: 0.2110 - acc: 0.9205 - val_loss: 0.2690 - val_acc: 0.8880\n",
      "Epoch 11/30\n",
      "2000/2000 [==============================] - 2s 1ms/step - loss: 0.2031 - acc: 0.9250 - val_loss: 0.2670 - val_acc: 0.8850\n",
      "Epoch 12/30\n",
      "2000/2000 [==============================] - 2s 1ms/step - loss: 0.1896 - acc: 0.9300 - val_loss: 0.2653 - val_acc: 0.8870\n",
      "Epoch 13/30\n",
      "2000/2000 [==============================] - 2s 1ms/step - loss: 0.1798 - acc: 0.9315 - val_loss: 0.2603 - val_acc: 0.8890\n",
      "Epoch 14/30\n",
      "2000/2000 [==============================] - 2s 1ms/step - loss: 0.1776 - acc: 0.9360 - val_loss: 0.2585 - val_acc: 0.8900\n",
      "Epoch 15/30\n",
      "2000/2000 [==============================] - 2s 1ms/step - loss: 0.1669 - acc: 0.9420 - val_loss: 0.2558 - val_acc: 0.8910\n",
      "Epoch 16/30\n",
      "2000/2000 [==============================] - 2s 1ms/step - loss: 0.1586 - acc: 0.9440 - val_loss: 0.2561 - val_acc: 0.8860\n",
      "Epoch 17/30\n",
      "2000/2000 [==============================] - 2s 1ms/step - loss: 0.1508 - acc: 0.9510 - val_loss: 0.2551 - val_acc: 0.8900\n",
      "Epoch 18/30\n",
      "2000/2000 [==============================] - 2s 1ms/step - loss: 0.1522 - acc: 0.9495 - val_loss: 0.2536 - val_acc: 0.8870\n",
      "Epoch 19/30\n",
      "2000/2000 [==============================] - 2s 1ms/step - loss: 0.1401 - acc: 0.9505 - val_loss: 0.2519 - val_acc: 0.8910\n",
      "Epoch 20/30\n",
      "2000/2000 [==============================] - 2s 1ms/step - loss: 0.1329 - acc: 0.9530 - val_loss: 0.2520 - val_acc: 0.8850\n",
      "Epoch 21/30\n",
      "2000/2000 [==============================] - 2s 1ms/step - loss: 0.1350 - acc: 0.9525 - val_loss: 0.2527 - val_acc: 0.8930\n",
      "Epoch 22/30\n",
      "2000/2000 [==============================] - 2s 1ms/step - loss: 0.1224 - acc: 0.9595 - val_loss: 0.2558 - val_acc: 0.8960\n",
      "Epoch 23/30\n",
      "2000/2000 [==============================] - 2s 1ms/step - loss: 0.1211 - acc: 0.9590 - val_loss: 0.2521 - val_acc: 0.8940\n",
      "Epoch 24/30\n",
      "2000/2000 [==============================] - 2s 1ms/step - loss: 0.1131 - acc: 0.9680 - val_loss: 0.2531 - val_acc: 0.8820\n",
      "Epoch 25/30\n",
      "2000/2000 [==============================] - 2s 1ms/step - loss: 0.1089 - acc: 0.9635 - val_loss: 0.2505 - val_acc: 0.8910\n",
      "Epoch 26/30\n",
      "2000/2000 [==============================] - 2s 1ms/step - loss: 0.1087 - acc: 0.9660 - val_loss: 0.2507 - val_acc: 0.8870\n",
      "Epoch 27/30\n",
      "2000/2000 [==============================] - 2s 1ms/step - loss: 0.1035 - acc: 0.9665 - val_loss: 0.2511 - val_acc: 0.8920\n",
      "Epoch 28/30\n",
      "2000/2000 [==============================] - 2s 1ms/step - loss: 0.0994 - acc: 0.9665 - val_loss: 0.2519 - val_acc: 0.8910\n",
      "Epoch 29/30\n",
      "2000/2000 [==============================] - 2s 1ms/step - loss: 0.0914 - acc: 0.9715 - val_loss: 0.2518 - val_acc: 0.8890\n",
      "Epoch 30/30\n",
      "2000/2000 [==============================] - 2s 1ms/step - loss: 0.0917 - acc: 0.9765 - val_loss: 0.2550 - val_acc: 0.8940\n"
     ]
    }
   ],
   "source": [
    "model = Sequential()\n",
    "model.add(Dense(256, activation='relu', input_dim=4 * 4 * 512))\n",
    "model.add(Dropout(0.5))\n",
    "model.add(Dense(1, activation='sigmoid'))\n",
    "\n",
    "model.compile(optimizer=optimizers.RMSprop(lr=2e-5),\n",
    "              loss='binary_crossentropy',\n",
    "              metrics=['acc'])\n",
    "\n",
    "history = model.fit(train_features, train_labels,\n",
    "                    epochs=30,\n",
    "                    batch_size=batch_size,\n",
    "                    validation_data=(val_features, val_labels))"
   ]
  },
  {
   "cell_type": "code",
   "execution_count": 17,
   "metadata": {},
   "outputs": [
    {
     "data": {
      "image/png": "[encoded data removed]",
      "text/plain": [
       "<Figure size 432x288 with 1 Axes>"
      ]
     },
     "metadata": {
      "needs_background": "light"
     },
     "output_type": "display_data"
    },
    {
     "data": {
      "image/png": "[encoded data removed]",
      "text/plain": [
       "<Figure size 432x288 with 1 Axes>"
      ]
     },
     "metadata": {
      "needs_background": "light"
     },
     "output_type": "display_data"
    }
   ],
   "source": [
    "acc = history.history['acc']\n",
    "val_acc = history.history['val_acc']\n",
    "loss = history.history['loss']\n",
    "val_loss = history.history['val_loss']\n",
    "\n",
    "epochs = range(1, len(acc) + 1)\n",
    "\n",
    "plt.plot(epochs, acc, 'bo', label='Training acc')\n",
    "plt.plot(epochs, val_acc, 'b', label='Validation acc')\n",
    "plt.title('Training and validation accuracy')\n",
    "plt.legend()\n",
    "\n",
    "plt.figure()\n",
    "\n",
    "plt.plot(epochs, loss, 'bo', label='Training loss')\n",
    "plt.plot(epochs, val_loss, 'b', label='Validation loss')\n",
    "plt.title('Training and validation loss')\n",
    "plt.legend()\n",
    "\n",
    "plt.show()"
   ]
  },
  {
   "cell_type": "code",
   "execution_count": null,
   "metadata": {},
   "outputs": [],
   "source": []
  }
 ],
 "metadata": {
  "kernelspec": {
   "display_name": "Python 3",
   "language": "python",
   "name": "python3"
  },
  "language_info": {
   "codemirror_mode": {
    "name": "ipython",
    "version": 3
   },
   "file_extension": ".py",
   "mimetype": "text/x-python",
   "name": "python",
   "nbconvert_exporter": "python",
   "pygments_lexer": "ipython3",
   "version": "3.6.8"
  }
 },
 "nbformat": 4,
 "nbformat_minor": 4
}
