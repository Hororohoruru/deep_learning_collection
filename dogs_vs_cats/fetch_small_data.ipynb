{
 "cells": [
  {
   "cell_type": "code",
   "execution_count": 2,
   "metadata": {},
   "outputs": [],
   "source": [
    "\"\"\"\n",
    "Script to create a small dataset from the kaggle dogs-vs-cats dataset\n",
    "Author: Juan Jesus Torre\n",
    "email: juanjesustorre@gmail.com\n",
    "\"\"\"\n",
    "\n",
    "import os\n",
    "import shutil"
   ]
  },
  {
   "cell_type": "code",
   "execution_count": 18,
   "metadata": {},
   "outputs": [],
   "source": [
    "def path_checker(path):\n",
    "    \"\"\"Checks if the path exists and creates a folder if not\"\"\"\n",
    "    if not os.path.exists(path):\n",
    "        os.mkdir(path)"
   ]
  },
  {
   "cell_type": "code",
   "execution_count": 19,
   "metadata": {},
   "outputs": [],
   "source": [
    "path = os.getcwd()\n",
    "\n",
    "dataset_path = os.path.join(path, 'data/all_data/train/')\n",
    "path_checker(dataset_path)\n",
    "    \n",
    "small_data_path = os.path.join(path, 'data/small_data')\n",
    "path_checker(small_data_path)  "
   ]
  },
  {
   "cell_type": "code",
   "execution_count": 20,
   "metadata": {},
   "outputs": [],
   "source": [
    "dirs = ['train', 'test', 'validation']\n",
    "categories = ['dog', 'cat']\n",
    "sizes = [1000, 500, 500]\n",
    "\n",
    "idx = 0\n",
    "for dir_name, size in zip(dirs, sizes):\n",
    "    dir_path = os.path.join(small_data_path, dir_name)\n",
    "    path_checker(dir_path)\n",
    "    \n",
    "    high_idx = idx + size\n",
    "    \n",
    "    for category in categories:\n",
    "        cat_dir = os.path.join(dir_path, category)\n",
    "        path_checker(cat_dir)\n",
    "        \n",
    "        fnames = [f\"{category}.{i}.jpg\" for i in range(idx, high_idx)]\n",
    "        for fname in fnames:\n",
    "            src = os.path.join(dataset_path, fname)\n",
    "            dst = os.path.join(cat_dir, fname)\n",
    "            shutil.copyfile(src, dst)     \n",
    "        \n",
    "    idx = high_idx"
   ]
  }
 ],
 "metadata": {
  "kernelspec": {
   "display_name": "Python 3",
   "language": "python",
   "name": "python3"
  },
  "language_info": {
   "codemirror_mode": {
    "name": "ipython",
    "version": 3
   },
   "file_extension": ".py",
   "mimetype": "text/x-python",
   "name": "python",
   "nbconvert_exporter": "python",
   "pygments_lexer": "ipython3",
   "version": "3.6.8"
  }
 },
 "nbformat": 4,
 "nbformat_minor": 4
}
